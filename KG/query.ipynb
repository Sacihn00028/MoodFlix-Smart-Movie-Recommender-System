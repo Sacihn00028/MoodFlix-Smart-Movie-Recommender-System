{
 "cells": [
  {
   "cell_type": "code",
   "execution_count": 1,
   "id": "8bb8d1f7",
   "metadata": {},
   "outputs": [
    {
     "name": "stdout",
     "output_type": "stream",
     "text": [
      "Defaulting to user installation because normal site-packages is not writeable\n",
      "Collecting neo4j\n",
      "  Downloading neo4j-5.28.1-py3-none-any.whl.metadata (5.9 kB)\n",
      "Requirement already satisfied: pytz in /usr/lib/python3/dist-packages (from neo4j) (2022.1)\n",
      "Downloading neo4j-5.28.1-py3-none-any.whl (312 kB)\n",
      "Installing collected packages: neo4j\n",
      "Successfully installed neo4j-5.28.1\n"
     ]
    }
   ],
   "source": [
    "!pip install neo4j"
   ]
  },
  {
   "cell_type": "code",
   "execution_count": null,
   "id": "1480fed0",
   "metadata": {},
   "outputs": [],
   "source": []
  },
  {
   "cell_type": "code",
   "execution_count": null,
   "id": "932e6e65",
   "metadata": {},
   "outputs": [
    {
     "name": "stdout",
     "output_type": "stream",
     "text": [
      "1. Interstellar (Rating: 8.6, Year: 2014, Director: Christopher Nolan)\n",
      "2. Up (Rating: 8.3, Year: 2009, Director: Pete Docter)\n",
      "3. Bahubali: The Beginning (Rating: 8.3, Year: 2015, Director: S.S. Rajamouli)\n",
      "4. La La Land (Rating: 8.3, Year: 2016, Director: Damien Chazelle)\n",
      "5. PK (Rating: 8.2, Year: 2014, Director: Rajkumar Hirani)\n",
      "6. Inside Out (Rating: 8.2, Year: 2015, Director: Pete Docter)\n",
      "7. Incendies (Rating: 8.2, Year: 2010, Director: Denis Villeneuve)\n",
      "8. The Grand Budapest Hotel (Rating: 8.1, Year: 2014, Director: Wes Anderson)\n",
      "9. Relatos salvajes (Rating: 8.1, Year: 2014, Director: Damián Szifron)\n",
      "10. Into the Wild (Rating: 8.1, Year: 2007, Director: Sean Penn)\n"
     ]
    }
   ],
   "source": [
    "from neo4j import GraphDatabase\n",
    "\n",
    "# Replace these with your actual Neo4j connection details\n",
    "uri = \"neo4j+s://fea8a723.databases.neo4j.io\"\n",
    "username = \"neo4j\"\n",
    "password = \"Qp3U5o9HjMkHPuLjj9M4vL91doNcq3Hj4fGFpZV7-XI\"\n",
    "\n",
    "# Connect to Neo4j\n",
    "driver = GraphDatabase.driver(uri, auth=(username, password))\n",
    "\n",
    "# Function to get top-k movies for a given mood, sorted by rating (or year if you prefer)\n",
    "def get_top_k_movies(mood, k):\n",
    "    query = f\"\"\"\n",
    "    MATCH (mo:Mood {{name: $mood}})-[:RECOMMENDS]->(m:Movie)\n",
    "    RETURN m.title AS title, m.director AS director, m.year AS year, m.rating AS rating\n",
    "    ORDER BY m.rating DESC\n",
    "    LIMIT $k\n",
    "    \"\"\"\n",
    "    with driver.session() as session:\n",
    "        result = session.run(query, mood=mood, k=k)\n",
    "        movies = result.data()\n",
    "        return movies\n",
    "\n",
    "# Example: Get top 5 'Thrilling' movies\n",
    "top_thrilling_movies = get_top_k_movies(\"Adventurous\", 10)\n",
    "\n",
    "# Print results\n",
    "for idx, movie in enumerate(top_thrilling_movies, 1):\n",
    "    print(f\"{idx}. {movie['title']} (Rating: {movie['rating']}, Year: {movie['year']}, Director: {movie['director']})\")\n",
    "\n",
    "# Close the driver connection when done\n",
    "driver.close()\n"
   ]
  },
  {
   "cell_type": "code",
   "execution_count": null,
   "id": "e112b8f9",
   "metadata": {},
   "outputs": [],
   "source": []
  }
 ],
 "metadata": {
  "kernelspec": {
   "display_name": "Python 3",
   "language": "python",
   "name": "python3"
  },
  "language_info": {
   "codemirror_mode": {
    "name": "ipython",
    "version": 3
   },
   "file_extension": ".py",
   "mimetype": "text/x-python",
   "name": "python",
   "nbconvert_exporter": "python",
   "pygments_lexer": "ipython3",
   "version": "3.10.12"
  }
 },
 "nbformat": 4,
 "nbformat_minor": 5
}
