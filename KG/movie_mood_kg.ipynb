{
 "cells": [
  {
   "cell_type": "code",
   "execution_count": 9,
   "id": "b5ba0c09",
   "metadata": {},
   "outputs": [
    {
     "name": "stdout",
     "output_type": "stream",
     "text": [
      "Using device: CPU\n"
     ]
    }
   ],
   "source": [
    "from neo4j import GraphDatabase\n",
    "from transformers import pipeline\n",
    "from tqdm import tqdm\n",
    "import pandas as pd\n",
    "import torch\n",
    "\n",
    "# Check GPU availability\n",
    "device = 0 if torch.cuda.is_available() else -1\n",
    "print(f\"Using device: {'GPU' if device == 0 else 'CPU'}\")"
   ]
  },
  {
   "cell_type": "code",
   "execution_count": 11,
   "id": "1baabad1",
   "metadata": {},
   "outputs": [
    {
     "name": "stderr",
     "output_type": "stream",
     "text": [
      "Xet Storage is enabled for this repo, but the 'hf_xet' package is not installed. Falling back to regular HTTP download. For better performance, install the package with: `pip install huggingface_hub[hf_xet]` or `pip install hf_xet`\n"
     ]
    },
    {
     "data": {
      "text/plain": [
       "BartTokenizerFast(name_or_path='facebook/bart-large-mnli', vocab_size=50265, model_max_length=1024, is_fast=True, padding_side='right', truncation_side='right', special_tokens={'bos_token': '<s>', 'eos_token': '</s>', 'unk_token': '<unk>', 'sep_token': '</s>', 'pad_token': '<pad>', 'cls_token': '<s>', 'mask_token': '<mask>'}, clean_up_tokenization_spaces=False, added_tokens_decoder={\n",
       "\t0: AddedToken(\"<s>\", rstrip=False, lstrip=False, single_word=False, normalized=True, special=True),\n",
       "\t1: AddedToken(\"<pad>\", rstrip=False, lstrip=False, single_word=False, normalized=True, special=True),\n",
       "\t2: AddedToken(\"</s>\", rstrip=False, lstrip=False, single_word=False, normalized=True, special=True),\n",
       "\t3: AddedToken(\"<unk>\", rstrip=False, lstrip=False, single_word=False, normalized=True, special=True),\n",
       "\t50264: AddedToken(\"<mask>\", rstrip=False, lstrip=True, single_word=False, normalized=True, special=True),\n",
       "}\n",
       ")"
      ]
     },
     "execution_count": 11,
     "metadata": {},
     "output_type": "execute_result"
    }
   ],
   "source": [
    "from transformers import AutoModelForSequenceClassification, AutoTokenizer\n",
    "\n",
    "AutoModelForSequenceClassification.from_pretrained(\"facebook/bart-large-mnli\")\n",
    "AutoTokenizer.from_pretrained(\"facebook/bart-large-mnli\")"
   ]
  },
  {
   "cell_type": "code",
   "execution_count": 12,
   "id": "8750aa8e",
   "metadata": {},
   "outputs": [
    {
     "name": "stderr",
     "output_type": "stream",
     "text": [
      "Device set to use cpu\n",
      "Device set to use cpu\n"
     ]
    }
   ],
   "source": [
    "# Load summarizer (optimized for GPU if available)\n",
    "summarizer = pipeline(\"summarization\", model=\"facebook/bart-large-cnn\", device=device)\n",
    "\n",
    "# Load zero-shot classifier (for mood classification)\n",
    "classifier = pipeline(\"zero-shot-classification\", model=\"facebook/bart-large-mnli\", device=device)\n",
    "\n",
    "# Candidate moods (expand as needed)\n",
    "candidate_moods = [\"Happy\", \"Sad\", \"Thrilling\", \"Romantic\", \"Adventurous\", \"Dark\", \"Inspiring\"]\n",
    "\n",
    "# Connect to Neo4j (replace with your credentials)\n",
    "uri = \"neo4j+s://fea8a723.databases.neo4j.io\"\n",
    "driver = GraphDatabase.driver(uri, auth=(\"neo4j\", \"Qp3U5o9HjMkHPuLjj9M4vL91doNcq3Hj4fGFpZV7-XI\"))"
   ]
  },
  {
   "cell_type": "code",
   "execution_count": 13,
   "id": "42356383",
   "metadata": {},
   "outputs": [],
   "source": [
    "def summarize_text(text):\n",
    "    input_length = len(text.split())\n",
    "    max_len = min(50, input_length)  # avoid warning\n",
    "    min_len = min(25, max_len-1) if max_len > 25 else 5\n",
    "    summary = summarizer(text, max_length=max_len, min_length=min_len, do_sample=False)\n",
    "    return summary[0]['summary_text']\n",
    "\n",
    "def classify_mood(text):\n",
    "    result = classifier(text, candidate_moods)\n",
    "    return result['labels'][0]\n",
    "\n",
    "def create_graph(tx, title, director, year, rating, mood):\n",
    "    tx.run(\"\"\"\n",
    "        MERGE (mo:Mood {name: $mood})\n",
    "        MERGE (m:Movie {title: $title})\n",
    "        SET m.director = $director, m.year = $year, m.rating = $rating\n",
    "        MERGE (mo)-[:RECOMMENDS]->(m)\n",
    "        \"\"\", mood=mood, title=title, director=director, year=year, rating=rating)\n",
    "\n",
    "# Load dataset\n",
    "df = pd.read_csv(\"eng.csv\")\n"
   ]
  },
  {
   "cell_type": "code",
   "execution_count": null,
   "id": "79faf6d2",
   "metadata": {},
   "outputs": [
    {
     "name": "stderr",
     "output_type": "stream",
     "text": [
      "  0%|          | 0/1000 [00:00<?, ?it/s]C:\\Users\\sachi\\AppData\\Local\\Temp\\ipykernel_19952\\723349172.py:17: DeprecationWarning: write_transaction has been renamed to execute_write\n",
      "  session.write_transaction(create_graph, title, director, year, rating, mood)\n",
      " 96%|█████████▌| 960/1000 [1:08:46<05:32,  8.32s/it]"
     ]
    },
    {
     "name": "stdout",
     "output_type": "stream",
     "text": [
      "Error processing Lucky Number Slevin: Cannot resolve address si-fea8a723-5c71.production-orch-0068.neo4j.io:7687\n"
     ]
    },
    {
     "name": "stderr",
     "output_type": "stream",
     "text": [
      " 96%|█████████▌| 961/1000 [1:09:00<06:36, 10.17s/it]"
     ]
    },
    {
     "name": "stdout",
     "output_type": "stream",
     "text": [
      "Error processing Trance: Cannot resolve address si-fea8a723-5c71.production-orch-0068.neo4j.io:7687\n"
     ]
    },
    {
     "name": "stderr",
     "output_type": "stream",
     "text": [
      " 96%|█████████▌| 962/1000 [1:09:04<05:07,  8.09s/it]"
     ]
    },
    {
     "name": "stdout",
     "output_type": "stream",
     "text": [
      "Error processing Into the Forest: Cannot resolve address fea8a723.databases.neo4j.io:7687\n"
     ]
    },
    {
     "name": "stderr",
     "output_type": "stream",
     "text": [
      " 96%|█████████▋| 963/1000 [1:09:06<03:55,  6.36s/it]"
     ]
    },
    {
     "name": "stdout",
     "output_type": "stream",
     "text": [
      "Error processing The Other Boleyn Girl: Cannot resolve address fea8a723.databases.neo4j.io:7687\n"
     ]
    },
    {
     "name": "stderr",
     "output_type": "stream",
     "text": [
      "100%|██████████| 1000/1000 [1:11:41<00:00,  4.30s/it]"
     ]
    },
    {
     "name": "stdout",
     "output_type": "stream",
     "text": [
      "✅ Knowledge graph built successfully!\n"
     ]
    },
    {
     "name": "stderr",
     "output_type": "stream",
     "text": [
      "\n"
     ]
    }
   ],
   "source": [
    "# Process movies with progress bar\n",
    "with driver.session() as session:\n",
    "    for _, row in tqdm(df.iterrows(), total=len(df)):\n",
    "        title = row['Title']\n",
    "        director = row['Director']\n",
    "        year = int(row['Year'])\n",
    "        rating = float(row['Rating'])\n",
    "        description = str(row['Description'])\n",
    "\n",
    "        if pd.isna(description) or description.strip() == \"\":\n",
    "            continue\n",
    "\n",
    "        try:\n",
    "            summary = summarize_text(description)\n",
    "            mood = classify_mood(summary)\n",
    "\n",
    "            session.execute_write(create_graph, title, director, year, rating, mood)\n",
    "        except Exception as e:\n",
    "            print(f\"Error processing {title}: {e}\")\n",
    "\n",
    "driver.close()\n",
    "print(\"✅ Knowledge graph built successfully!\")"
   ]
  }
 ],
 "metadata": {
  "kernelspec": {
   "display_name": ".venv",
   "language": "python",
   "name": "python3"
  },
  "language_info": {
   "codemirror_mode": {
    "name": "ipython",
    "version": 3
   },
   "file_extension": ".py",
   "mimetype": "text/x-python",
   "name": "python",
   "nbconvert_exporter": "python",
   "pygments_lexer": "ipython3",
   "version": "3.11.9"
  }
 },
 "nbformat": 4,
 "nbformat_minor": 5
}
