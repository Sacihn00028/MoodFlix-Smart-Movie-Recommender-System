{
 "cells": [
  {
   "cell_type": "code",
   "execution_count": null,
   "id": "b5ba0c09",
   "metadata": {},
   "outputs": [
    {
     "name": "stderr",
     "output_type": "stream",
     "text": [
      "c:\\Users\\sachi\\OneDrive\\Desktop\\Hackathon\\MoodFlix-Smart-Movie-Recommender-System-mehul\\KnowledgeBase\\.venv\\Lib\\site-packages\\tqdm\\auto.py:21: TqdmWarning: IProgress not found. Please update jupyter and ipywidgets. See https://ipywidgets.readthedocs.io/en/stable/user_install.html\n",
      "  from .autonotebook import tqdm as notebook_tqdm\n"
     ]
    },
    {
     "name": "stdout",
     "output_type": "stream",
     "text": [
      "Using device: GPU\n"
     ]
    }
   ],
   "source": [
    "from neo4j import GraphDatabase\n",
    "from transformers import pipeline\n",
    "from tqdm import tqdm\n",
    "import pandas as pd\n",
    "import torch\n",
    "\n",
    "# Check GPU availability\n",
    "device = 0 if torch.cuda.is_available() else -1\n",
    "print(f\"Using device: {'GPU' if device == 0 else 'CPU'}\")"
   ]
  },
  {
   "cell_type": "code",
   "execution_count": null,
   "id": "49f1448a",
   "metadata": {},
   "outputs": [],
   "source": [
    "from transformers import AutoModelForSequenceClassification, AutoTokenizer\n",
    "\n",
    "AutoModelForSequenceClassification.from_pretrained(\"facebook/bart-large-mnli\")\n",
    "AutoTokenizer.from_pretrained(\"facebook/bart-large-mnli\")"
   ]
  },
  {
   "cell_type": "code",
   "execution_count": null,
   "id": "9724d4dd",
   "metadata": {},
   "outputs": [],
   "source": [
    "df = pd.read_csv('eng.csv')"
   ]
  },
  {
   "cell_type": "code",
   "execution_count": null,
   "id": "8750aa8e",
   "metadata": {},
   "outputs": [
    {
     "name": "stderr",
     "output_type": "stream",
     "text": [
      "Device set to use cuda:0\n",
      "Device set to use cuda:0\n"
     ]
    }
   ],
   "source": [
    "# Load summarizer (optimized for GPU if available)\n",
    "summarizer = pipeline(\"summarization\", model=\"facebook/bart-large-cnn\", device=device)\n",
    "\n",
    "# Load zero-shot classifier (for mood classification)\n",
    "classifier = pipeline(\"zero-shot-classification\", model=\"facebook/bart-large-mnli\", device=device)\n",
    "\n",
    "# Connect to Neo4j (replace with your credentials)\n",
    "uri = \"neo4j+s://fea8a723.databases.neo4j.io\"\n",
    "driver = GraphDatabase.driver(uri, auth=(\"neo4j\", \"Qp3U5o9HjMkHPuLjj9M4vL91doNcq3Hj4fGFpZV7-XI\"))"
   ]
  },
  {
   "cell_type": "code",
   "execution_count": null,
   "id": "42356383",
   "metadata": {},
   "outputs": [],
   "source": [
    "def summarize_text(text):\n",
    "    input_length = len(text.split())\n",
    "    max_len = min(50, input_length)  # avoid warning\n",
    "    min_len = min(25, max_len-1) if max_len > 25 else 5\n",
    "    summary = summarizer(text, max_length=max_len, min_length=min_len, do_sample=False)\n",
    "    return summary[0]['summary_text']\n",
    "\n",
    "def classify_runtime(text):\n",
    "    return text\n",
    "\n",
    "def create_graph(tx, title, runtime, year, rating):\n",
    "    # Determine runtime category\n",
    "    if runtime < 90:\n",
    "        category = \"Short\"\n",
    "    elif runtime <= 150:\n",
    "        category = \"Medium\"\n",
    "    else:\n",
    "        category = \"Large\"\n",
    "    \n",
    "    tx.run(\"\"\"\n",
    "        MERGE (r:RuntimeCategory {name: $category})\n",
    "        MERGE (m:Movie {title: $title})\n",
    "        SET m.year = $year, \n",
    "            m.rating = $rating,\n",
    "            m.runtime = $runtime\n",
    "        MERGE (r)-[:CONTAINS]->(m)\n",
    "        \"\"\", category=category, title=title, year=year, rating=rating, runtime=runtime)\n"
   ]
  },
  {
   "cell_type": "code",
   "execution_count": null,
   "id": "79faf6d2",
   "metadata": {},
   "outputs": [
    {
     "name": "stderr",
     "output_type": "stream",
     "text": [
      " 97%|█████████▋| 974/1000 [09:09<00:13,  1.90it/s]"
     ]
    }
   ],
   "source": [
    "# Process movies with progress bar\n",
    "with driver.session() as session:\n",
    "    for _, row in tqdm(df.iterrows(), total=len(df)):\n",
    "        title = row['Title']\n",
    "        runtime = int(row['Runtime (Minutes)'])\n",
    "        year = int(row['Year'])\n",
    "        rating = float(row['Rating'])\n",
    "        \n",
    "        try:\n",
    "            session.execute_write(create_graph, title, runtime, year, rating)\n",
    "        except Exception as e:\n",
    "            print(f\"Error processing {title}: {e}\")\n",
    "\n",
    "driver.close()\n",
    "print(\"✅ Runtime-Movie knowledge graph built successfully!\")"
   ]
  }
 ],
 "metadata": {
  "kernelspec": {
   "display_name": "Python 3",
   "language": "python",
   "name": "python3"
  },
  "language_info": {
   "codemirror_mode": {
    "name": "ipython",
    "version": 3
   },
   "file_extension": ".py",
   "mimetype": "text/x-python",
   "name": "python",
   "nbconvert_exporter": "python",
   "pygments_lexer": "ipython3",
   "version": "3.10.12"
  }
 },
 "nbformat": 4,
 "nbformat_minor": 5
}
